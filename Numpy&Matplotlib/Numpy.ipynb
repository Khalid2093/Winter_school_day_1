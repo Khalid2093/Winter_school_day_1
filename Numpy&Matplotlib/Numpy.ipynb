{
  "nbformat": 4,
  "nbformat_minor": 0,
  "metadata": {
    "colab": {
      "provenance": [],
      "toc_visible": true
    },
    "kernelspec": {
      "name": "python3",
      "display_name": "Python 3"
    },
    "language_info": {
      "name": "python"
    }
  },
  "cells": [
    {
      "cell_type": "markdown",
      "source": [
        "NUMPY"
      ],
      "metadata": {
        "id": "3G5x4CiWc_pm"
      }
    },
    {
      "cell_type": "code",
      "execution_count": 1,
      "metadata": {
        "id": "dlfHXWQxWpc-"
      },
      "outputs": [],
      "source": [
        "import numpy as np\n",
        "# Numpy --> Numeric Python\n",
        "# ndarray --> n dimensional array"
      ]
    },
    {
      "cell_type": "code",
      "source": [
        "np1 = np.array([0,1,2,3,4,5,6,7,8,9])\n",
        "print(np1)\n",
        "print(type(np1))\n",
        "print(np1.shape) # length of ndarray"
      ],
      "metadata": {
        "colab": {
          "base_uri": "https://localhost:8080/"
        },
        "id": "YA9C77mKbaX-",
        "outputId": "752959ab-47c8-46a3-debf-59e095c522be"
      },
      "execution_count": 4,
      "outputs": [
        {
          "output_type": "stream",
          "name": "stdout",
          "text": [
            "[0 1 2 3 4 5 6 7 8 9]\n",
            "<class 'numpy.ndarray'>\n",
            "(10,)\n"
          ]
        }
      ]
    },
    {
      "cell_type": "code",
      "source": [
        "# --- arrange func --- #\n",
        "np2 = np.arange(9) # make list from 0 --> l-1\n",
        "print(np2)"
      ],
      "metadata": {
        "id": "kk7lfaibSopV"
      },
      "execution_count": null,
      "outputs": []
    },
    {
      "cell_type": "code",
      "source": [
        "# --- zero func --- #\n",
        "np4 = np.zeros(10) # make a list of 0 of size n\n",
        "print(np4)\n",
        "#-----random numbers ------#\n",
        "random_int = np.random.randint(1, 10, size=5)\n",
        "print(random_int)\n",
        "# multi-dimensional #\n",
        "np5 = np.ones(3) # --> creates 2D array with 5 zero in each dim\n",
        "print(np5)\n",
        "# --- full func --- #\n",
        "np6 = np.full((10),3)\n",
        "print(np6)\n",
        "np7 = np.full((3,5),9)\n",
        "print(np7)"
      ],
      "metadata": {
        "colab": {
          "base_uri": "https://localhost:8080/"
        },
        "id": "fXVMCHcEbg7-",
        "outputId": "6dab4193-2ea2-40ff-da80-3f5ca7f987b6"
      },
      "execution_count": 5,
      "outputs": [
        {
          "output_type": "stream",
          "name": "stdout",
          "text": [
            "[0. 0. 0. 0. 0. 0. 0. 0. 0. 0.]\n",
            "[2 4 5 1 3]\n",
            "[1. 1. 1.]\n",
            "[3 3 3 3 3 3 3 3 3 3]\n",
            "[[9 9 9 9 9]\n",
            " [9 9 9 9 9]\n",
            " [9 9 9 9 9]]\n"
          ]
        }
      ]
    },
    {
      "cell_type": "code",
      "source": [
        "# --- slicing --- #\n",
        "li = [1, 2, 3, 4, 5, 6, 7, 8, 9]\n",
        "n = np.array(li)\n",
        "\n",
        "print(n[1:4])  # --> 2, 3, 4\n",
        "print(n[:4])  # --> 1, 2, 3, 4 (start from 0)\n",
        "print(n[4:])  # --> 5, 6, 7, 8, 9 (end at last index)\n",
        "print(n[0:9:2])"
      ],
      "metadata": {
        "colab": {
          "base_uri": "https://localhost:8080/"
        },
        "id": "ImGeNzz1bxhM",
        "outputId": "62efdf38-4314-441a-e589-63e477b3ea26"
      },
      "execution_count": null,
      "outputs": [
        {
          "output_type": "stream",
          "name": "stdout",
          "text": [
            "[2 3 4]\n",
            "[1 2 3 4]\n",
            "[5 6 7 8 9]\n",
            "[1 3 5 7 9]\n"
          ]
        }
      ]
    },
    {
      "cell_type": "code",
      "source": [
        "#------ Maths Opeartion -----#\n",
        "l = [1, 4, 9, 16, 25, 36, 49, 64, 81]\n",
        "l2 = [-1, -4, -9, -16, -25, -36, -49, 64, 81]\n",
        "n = np.array(l)\n",
        "n2 = np.array(l2)\n",
        "print(n)\n",
        "\n",
        "# Square root of each element #\n",
        "print(np.sqrt(n))\n",
        "\n",
        "# Absolute value of each element #\n",
        "print(np.absolute(n2))  # --> returns positive value\n",
        "\n",
        "# Min/Max of each element #\n",
        "print(np.min(n))\n",
        "print(np.max(n))"
      ],
      "metadata": {
        "colab": {
          "base_uri": "https://localhost:8080/"
        },
        "id": "tMARz39pcI8e",
        "outputId": "236cac0e-281f-410b-f6fa-4feab14a8cf7"
      },
      "execution_count": null,
      "outputs": [
        {
          "output_type": "stream",
          "name": "stdout",
          "text": [
            "[ 1  4  9 16 25 36 49 64 81]\n",
            "[1. 2. 3. 4. 5. 6. 7. 8. 9.]\n",
            "[ 1  4  9 16 25 36 49 64 81]\n",
            "1\n",
            "81\n"
          ]
        }
      ]
    }
  ]
}